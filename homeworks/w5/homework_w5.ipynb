{
 "cells": [
  {
   "cell_type": "markdown",
   "metadata": {},
   "source": [
    "# Homework week 5"
   ]
  },
  {
   "cell_type": "markdown",
   "metadata": {},
   "source": [
    "## Q1"
   ]
  },
  {
   "cell_type": "markdown",
   "metadata": {},
   "source": [
    "* Install Pipenv \n",
    "* What's the version of pipenv you installed? \n",
    "* Use --version to find out"
   ]
  },
  {
   "cell_type": "markdown",
   "metadata": {},
   "source": [
    "##from terminal\n",
    "\n",
    "pip install pipenv\n",
    "pipenv --version\n",
    "\n"
   ]
  },
  {
   "cell_type": "markdown",
   "metadata": {},
   "source": [
    "## Q2"
   ]
  },
  {
   "cell_type": "markdown",
   "metadata": {},
   "source": [
    "* Use Pipenv to install Scikit-Learn version 1.0  \n",
    "* What's the first hash for scikit-learn you get in Pipfile.lock?"
   ]
  },
  {
   "cell_type": "markdown",
   "metadata": {},
   "source": [
    "#from terminal\n",
    "\n",
    "pipenv install scikit-learn==1.0\n",
    "\n",
    "\"sha256:121f78d6564000dc5e968394f45aac87981fcaaf2be40cfcd8f07b2baa1e1829\""
   ]
  },
  {
   "cell_type": "markdown",
   "metadata": {},
   "source": []
  },
  {
   "cell_type": "markdown",
   "metadata": {},
   "source": [
    "To activate the environment run the following: pipenv shell"
   ]
  },
  {
   "cell_type": "markdown",
   "metadata": {},
   "source": []
  },
  {
   "cell_type": "markdown",
   "metadata": {},
   "source": [
    "## Q3"
   ]
  },
  {
   "cell_type": "markdown",
   "metadata": {},
   "source": [
    "Let's use these models!  \n",
    "* Write a script for loading these models with pickle \n",
    "* Score this customer:\n",
    "\n",
    "{\"contract\": \"two_year\", \"tenure\": 12, \"monthlycharges\": 19.7}\n",
    "\n",
    "What's the probability that this customer is churning?"
   ]
  },
  {
   "cell_type": "code",
   "execution_count": 2,
   "metadata": {},
   "outputs": [],
   "source": [
    "import pickle\n",
    "\n",
    "def load(filename):\n",
    "    with open(filename, 'rb') as f_in:\n",
    "        return pickle.load(f_in)"
   ]
  },
  {
   "cell_type": "code",
   "execution_count": 3,
   "metadata": {},
   "outputs": [],
   "source": [
    "#load files from pickle\n",
    "dv = load('dv.bin')\n",
    "model = load('model1.bin')"
   ]
  },
  {
   "cell_type": "code",
   "execution_count": 4,
   "metadata": {},
   "outputs": [
    {
     "name": "stdout",
     "output_type": "stream",
     "text": [
      "0.11549580587832914\n"
     ]
    }
   ],
   "source": [
    "#score a customer\n",
    "customer = {\"contract\": \"two_year\", \"tenure\": 12, \"monthlycharges\": 19.7}\n",
    "\n",
    "X = dv.transform([customer])\n",
    "y_pred = model.predict_proba(X)[0, 1]\n",
    "\n",
    "print(y_pred)"
   ]
  },
  {
   "cell_type": "markdown",
   "metadata": {},
   "source": [
    "## Q4"
   ]
  },
  {
   "cell_type": "markdown",
   "metadata": {},
   "source": [
    "Now let's serve this model as a web service\n",
    "\n",
    "* Install Flask and Gunicorn (or waitress, if you're on Windows)\n",
    "* Write Flask code for serving the model\n",
    "* Now score this customer using requests:\n",
    "\n",
    "url = \"YOUR_URL\" \n",
    "\n",
    "customer = {\"contract\": \"two_year\", \"tenure\": 1, \"monthlycharges\": 10} \n",
    "\n",
    "requests.post(url, json=customer).json()"
   ]
  },
  {
   "cell_type": "markdown",
   "metadata": {},
   "source": [
    "#from terminal\n",
    "\n",
    "pipenv install flask\n",
    "pipenv install gunicorn"
   ]
  },
  {
   "cell_type": "markdown",
   "metadata": {},
   "source": [
    "#write flask app: see q4_predict.py \n",
    "\n",
    "#execute app from terminal: python q4_predict.py \n",
    "##or do it via gunicorn to avoid \"in production\" warning: gunicorn --bind 0.0.0.0:9696 q4_predict:app"
   ]
  },
  {
   "cell_type": "markdown",
   "metadata": {},
   "source": [
    "To score the customer, you can execute the following code via  JUPYTER NOTEBOOK:\n",
    "\n",
    "see q4_predict_test.ipynb"
   ]
  },
  {
   "cell_type": "markdown",
   "metadata": {},
   "source": [
    "## Docker"
   ]
  },
  {
   "cell_type": "markdown",
   "metadata": {},
   "source": [
    "Install Docker. We will use it for the next two questions.\n",
    "\n",
    "For these questions, I prepared a base image: agrigorev/zoomcamp-model:3.8.12-slim. You'll need to use it (see Question 5 for an example).\n",
    "\n",
    "This image is based on python:3.8.12-slim and has a logistic regression model (a different one) as well a dictionary vectorizer inside.\n",
    "\n",
    "This is how the Dockerfile for this image looks like:"
   ]
  },
  {
   "cell_type": "markdown",
   "metadata": {},
   "source": [
    "FROM python:3.8.12-slim\n",
    "WORKDIR /app\n",
    "COPY [\"model2.bin\", \"dv.bin\", \"./\"]"
   ]
  },
  {
   "cell_type": "markdown",
   "metadata": {},
   "source": [
    "## Q5"
   ]
  },
  {
   "cell_type": "markdown",
   "metadata": {},
   "source": [
    "1) Install docker container prepared for the exercise as follows: docker run -it --rm agrigorev/zoomcamp-model:3.8.12-slim\n",
    "#if we run the above we enter by default a python terminal. To enter a bash terminal run as follows: docker run -it --rm --entrypoint=bash agrigorev/zoomcamp-model:3.8.12-slim\n",
    "\n",
    "2) Create \"Dockerfile\" an prepare it as per instructions\n",
    "\n",
    "3) Build dockerfile as follows: docker build -t homework_w5 .\n",
    "#the dot is to tell to use the Dockerfile present in the current directory\n",
    "#it will run all the commands inside the Dockerfile and install required packages\n",
    "\n",
    "4) Now we can finally run the newly created image as we did earlier, as follows: docker run -it --rm --entrypoint=bash homework_w5\n",
    "\n",
    "5) If we now run ls we can see that all files mentioned in the Dockerfile are there: \n",
    "#Pipfile  Pipfile.lock  dv.bin  model2.bin  q6_predict.py\n",
    "\n",
    "6) Run it with gunicorn: gunicorn --bind=0.0.0.0:9696 q6_predict:app\n",
    "\n",
    "#we can see that it's listening at port e.g. http://0.0.0.0:9696 though we can't yet access this port because we have first to expose this port.We have to say Docker \"Hey Docker we want to have this port open for the host machine...\". And also we need to do a port mapping, to map the port we have in the contained to the port in our host machine... so the predict.py will point to the host port and this will be mapped to a port on the Docker machine and then it will go to the Churn service, and then our serive will reply with the prediction and etc. etc. the inverse path. This is done by adding this line in the Docker file: EXPOSE 9696 and specify entrypoints: ENTRYPOINT [\"gunicorn\", \"--bind=0.0.0.0:9696\", \"q6_predict:app\"]\n",
    "\n",
    "#to get the is of the image we can run the following outise of docker terminal: docker images\n",
    "#in the IMAGE ID column you can find the id e.g. dc3bae430933   \n"
   ]
  },
  {
   "cell_type": "markdown",
   "metadata": {},
   "source": [
    "## Q6"
   ]
  },
  {
   "cell_type": "markdown",
   "metadata": {},
   "source": [
    "Let's run your docker container!\n",
    "\n",
    "After running it, score this customer:\n",
    "\n",
    "url = \"YOUR_URL\"\n",
    "\n",
    "customer = {\"contract\": \"two_year\", \"tenure\": 12, \"monthlycharges\": 10}\n",
    "\n",
    "requests.post(url, json=customer).json()\n",
    "\n",
    "What's the probability that this customer is churning?"
   ]
  },
  {
   "cell_type": "markdown",
   "metadata": {},
   "source": [
    "We can now use again our Jupyter notebook q4_predict_test to make the prediction request."
   ]
  },
  {
   "cell_type": "markdown",
   "metadata": {},
   "source": []
  }
 ],
 "metadata": {
  "interpreter": {
   "hash": "41b41c2ce5ba1253146396d2594bfb41b3a80ddbe410f5cae8e2c48e6ab3e3ab"
  },
  "kernelspec": {
   "display_name": "Python 3.8.5 64-bit ('base': conda)",
   "name": "python3"
  },
  "language_info": {
   "codemirror_mode": {
    "name": "ipython",
    "version": 3
   },
   "file_extension": ".py",
   "mimetype": "text/x-python",
   "name": "python",
   "nbconvert_exporter": "python",
   "pygments_lexer": "ipython3",
   "version": "3.8.5"
  },
  "orig_nbformat": 4
 },
 "nbformat": 4,
 "nbformat_minor": 2
}